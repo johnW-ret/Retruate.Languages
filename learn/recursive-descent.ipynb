{
 "cells": [
  {
   "cell_type": "markdown",
   "metadata": {},
   "source": [
    "Create your first programming language that runs on .NET\n",
    "=====\n",
    "\n",
    "> Note: as of this writing, C# 11 is the latest version of C# to be released. C# 12 includes a feature that would make a lot of this code more concise - [collection expressions](https://learn.microsoft.com/en-us/dotnet/csharp/language-reference/proposals/csharp-12.0/collection-expressions), however, I don't want to figure out how to get preview versions of .NET to work in a notebook. As such, I plan to update this when C# 12 releases.\n",
    "\n",
    "Compilers can be a tricky topic to get into. There are [plenty](https://github.com/sandersn/mini-typescript) of [resources](https://archive.org/details/aho-compilers-principles-techniques-and-tools-2e_202203) available to learn compilers, but nothing I've found as small as a notebook.\n",
    "\n",
    "This purpose of this notebook is to demonstrate an example of a tiny compiler.\n",
    "\n",
    "Goals:\n",
    "------\n",
    "- Runs on .NET runtime as its own executable!\n",
    "- variables, assignment, integer expression evaluation\n",
    "- runs without the need of parser generators\n",
    "\n",
    "Plan\n",
    "----\n",
    "This compiler follows 4 main phases of a canonical compiler:\n",
    "1. Lexer\n",
    "2. Parser\n",
    "3. Semantic Analysis\n",
    "4. Codegen\n",
    "\n",
    "> Note: This language is extremely underwhelming. It supports no functions, only a single class of the most basic operators, has a single type of `int`, gives *zero* helpful error messages (it either works or it doesn't), and despite running on .NET, you can't explicitly import or call any of the .NET methods."
   ]
  },
  {
   "cell_type": "markdown",
   "metadata": {},
   "source": [
    "# Lexer\n",
    "The first step in a compiler is a lexer. The idea is to take string text and convert it into a sequence of tokens, kind of like how you can take an English sentence and split it into words with `string.Split(\" \")`.\n",
    "\n",
    "We can't use `string.Split(\" \")` for tokens, though, because sometimes tokens are not separated by spaces. For example, `x = 3` and `x=3` are both valid Python programs. Instead, we'll use something called regular expressions (`Regex`).\n",
    "\n",
    "## Regex\n",
    "A regex is a pattern with which we can test whether another string conforms to that pattern. For example, the string `name` matches the pattern `name`. In a regex expression, the unescaped `.` means \"match any single character\". So therefore, `name` also matches the pattern `n.me`, but so so the strings `nome` and `neme`."
   ]
  },
  {
   "cell_type": "code",
   "execution_count": 24,
   "metadata": {
    "dotnet_interactive": {
     "language": "csharp"
    },
    "polyglot_notebook": {
     "kernelName": "csharp"
    }
   },
   "outputs": [
    {
     "data": {
      "text/csv": [
       "String,IsMatch\r\n",
       "name,True\r\n",
       "neme,True\r\n",
       "nome,True\r\n",
       "neem,False\r\n"
      ],
      "text/html": [
       "<table><thead><tr><td><span>String</span></td><td><span>IsMatch</span></td></tr></thead><tbody><tr><td>name</td><td><div class=\"dni-plaintext\"><pre>True</pre></div></td></tr><tr><td>neme</td><td><div class=\"dni-plaintext\"><pre>True</pre></div></td></tr><tr><td>nome</td><td><div class=\"dni-plaintext\"><pre>True</pre></div></td></tr><tr><td>neem</td><td><div class=\"dni-plaintext\"><pre>False</pre></div></td></tr></tbody></table><style>\r\n",
       ".dni-code-hint {\r\n",
       "    font-style: italic;\r\n",
       "    overflow: hidden;\r\n",
       "    white-space: nowrap;\r\n",
       "}\r\n",
       ".dni-treeview {\r\n",
       "    white-space: nowrap;\r\n",
       "}\r\n",
       ".dni-treeview td {\r\n",
       "    vertical-align: top;\r\n",
       "    text-align: start;\r\n",
       "}\r\n",
       "details.dni-treeview {\r\n",
       "    padding-left: 1em;\r\n",
       "}\r\n",
       "table td {\r\n",
       "    text-align: start;\r\n",
       "}\r\n",
       "table tr { \r\n",
       "    vertical-align: top; \r\n",
       "    margin: 0em 0px;\r\n",
       "}\r\n",
       "table tr td pre \r\n",
       "{ \r\n",
       "    vertical-align: top !important; \r\n",
       "    margin: 0em 0px !important;\r\n",
       "} \r\n",
       "table th {\r\n",
       "    text-align: start;\r\n",
       "}\r\n",
       "</style>"
      ]
     },
     "metadata": {},
     "output_type": "display_data"
    }
   ],
   "source": [
    "using System.Text.RegularExpressions;\n",
    "\n",
    "string[] words = { \"name\", \"neme\", \"nome\", \"neem\" };\n",
    "string pattern = \"n.me\";\n",
    "\n",
    "words.Select(w => new { String = w, IsMatch = Regex.IsMatch(w, pattern) }).DisplayTable()"
   ]
  },
  {
   "cell_type": "markdown",
   "metadata": {},
   "source": [
    "\n",
    "Another reason we might want to use regex to break strings into tokens (\"sentence into words\") is because it helps us classify our tokens into *types* or *categories*. In English sentences, words have are classified into \"parts of speech\", like \"verb\" and \"noun\". In a naive example where words fall into one part of speech, we can look up words in a sentence in a dictionary to find their parts of speech. For example, in `I ran to the store`, `I` is a noun, `ran` is a past-tense verb, etc. With regex, we actually have it a bit easier, as we can classify tokens based on their *patterns* instead of looking them up in a dictionary. For example, the pattern `-?[0-9]+` matches integers like `1` and `626`, and the pattern `^[a-zA-Z]+[0-9a-zA-Z]*` matches IDs like `index` and `age`. "
   ]
  },
  {
   "cell_type": "markdown",
   "metadata": {},
   "source": [
    "First, we'll define our token types using an `enum`, and a `record struct` to store our token type, along with an `int Start` and `ReadOnlyMemory<char> Memory` to reference where it lives in memory.\n",
    "\n",
    "> (we could use this information in the future for error reporting, though we do not in this example) "
   ]
  },
  {
   "cell_type": "code",
   "execution_count": 25,
   "metadata": {
    "dotnet_interactive": {
     "language": "csharp"
    },
    "polyglot_notebook": {
     "kernelName": "csharp"
    }
   },
   "outputs": [],
   "source": [
    "public enum TokenType { Semicolon, Assignment, LeftParenthesis, RightParenthesis, Add, Subtract, Multiply, Divide, Id, Integer, Whitespace }\n",
    "public record struct Token(int Start, ReadOnlyMemory<char> Memory, TokenType Type);"
   ]
  },
  {
   "cell_type": "markdown",
   "metadata": {},
   "source": [
    "We also want to associate token types with their corresponding `Regex` rules.\n",
    "\n",
    "We could use a `Dictionary` (hashmap) here, but as we'll see, we'll be iterating through our collection of rules, so it makes more sense to just defined them as a list of tuples. "
   ]
  },
  {
   "cell_type": "code",
   "execution_count": 26,
   "metadata": {
    "dotnet_interactive": {
     "language": "csharp"
    },
    "polyglot_notebook": {
     "kernelName": "csharp"
    }
   },
   "outputs": [],
   "source": [
    "(TokenType Type, Regex Pattern)[] rules = new (TokenType type, Regex regex)[] {\n",
    "    (TokenType.Semicolon,           new(@\"^;\", RegexOptions.Compiled)),\n",
    "    (TokenType.Assignment,          new(@\"^=\", RegexOptions.Compiled)),\n",
    "    (TokenType.LeftParenthesis,     new(@\"^\\(\", RegexOptions.Compiled)),\n",
    "    (TokenType.RightParenthesis,    new(@\"^\\)\", RegexOptions.Compiled)),\n",
    "    (TokenType.Add,                 new(@\"^\\+\", RegexOptions.Compiled)),\n",
    "    (TokenType.Subtract,            new(@\"^\\-\", RegexOptions.Compiled)),\n",
    "    (TokenType.Multiply,            new(@\"^\\*\", RegexOptions.Compiled)),\n",
    "    (TokenType.Divide,              new(@\"^/\", RegexOptions.Compiled)),\n",
    "    (TokenType.Id,                  new(@\"^[a-zA-Z]+[0-9a-zA-Z]*\", RegexOptions.Compiled)),\n",
    "    (TokenType.Integer,             new(@\"^-?[0-9]+\", RegexOptions.Compiled)),\n",
    "    (TokenType.Whitespace,          new(@\"^[ \\n\\t\\r]\", RegexOptions.Compiled))\n",
    "};"
   ]
  },
  {
   "cell_type": "markdown",
   "metadata": {},
   "source": [
    "In our case, we can modify our use of `Regex` to \"pull tokens off\" when we have at least one match.\n"
   ]
  },
  {
   "cell_type": "markdown",
   "metadata": {},
   "source": [
    "\n",
    "With this knowledge, we can imagine a simple algorithm to break off tokens:\n",
    "```\n",
    "tokens = []\n",
    "\n",
    "while input string s not empty\n",
    "    for each (type, regex pattern) in rules\n",
    "        search for first match m in regex pattern\n",
    "        if m exists\n",
    "            add (m, type) to tokens\n",
    "        if m not exists\n",
    "            error\n",
    "\n",
    "return tokens\n",
    "```\n",
    "\n",
    "which is exactly what we do below"
   ]
  },
  {
   "cell_type": "markdown",
   "metadata": {},
   "source": [
    "First we define our input string:"
   ]
  },
  {
   "cell_type": "code",
   "execution_count": 27,
   "metadata": {
    "dotnet_interactive": {
     "language": "csharp"
    },
    "polyglot_notebook": {
     "kernelName": "csharp"
    }
   },
   "outputs": [],
   "source": [
    "public ReadOnlyMemory<char> input =\n",
    "    \"\"\"\n",
    "    a = 2;\n",
    "    b = 3;\n",
    "    c = (3 + a) * b;\n",
    "\n",
    "    c\n",
    "    \"\"\".AsMemory();"
   ]
  },
  {
   "cell_type": "markdown",
   "metadata": {},
   "source": [
    "You'll note that instead of using `input`, we call `AsMemory` and store it in `feed`.\n",
    "\n",
    "`feed`, like `Token.Memory`, is a `ReadOnlySpan<Memory>`. It allows us to create a wrapper over our original input string and slice the front off each time we pull off a token without copying any of the input string.\n",
    "\n",
    "You could write a similar implementation with only `input` and keeping track of an index as you go along, but passing subslices of `string`s and `Array`s to other functions becomes tedious and error prone as complexity increases, so I prefer using `Span<T>` and `Memory<T>` types."
   ]
  },
  {
   "cell_type": "code",
   "execution_count": 28,
   "metadata": {
    "dotnet_interactive": {
     "language": "csharp"
    },
    "polyglot_notebook": {
     "kernelName": "csharp"
    }
   },
   "outputs": [
    {
     "data": {
      "text/html": [
       "<table><thead><tr><th><i>index</i></th><th>value</th></tr></thead><tbody><tr><td>0</td><td><details class=\"dni-treeview\"><summary><span class=\"dni-code-hint\"><code>Token { Start = 0, Memory = a, Type = Id }</code></span></summary><div><table><thead><tr></tr></thead><tbody><tr><td>Start</td><td><div class=\"dni-plaintext\"><pre>0</pre></div></td></tr><tr><td>Memory</td><td><span>a</span></td></tr><tr><td>Type</td><td><span>Id</span></td></tr></tbody></table></div></details></td></tr><tr><td>1</td><td><details class=\"dni-treeview\"><summary><span class=\"dni-code-hint\"><code>Token { Start = 2, Memory = =, Type = Assignment }</code></span></summary><div><table><thead><tr></tr></thead><tbody><tr><td>Start</td><td><div class=\"dni-plaintext\"><pre>2</pre></div></td></tr><tr><td>Memory</td><td><span>=</span></td></tr><tr><td>Type</td><td><span>Assignment</span></td></tr></tbody></table></div></details></td></tr><tr><td>2</td><td><details class=\"dni-treeview\"><summary><span class=\"dni-code-hint\"><code>Token { Start = 4, Memory = 2, Type = Integer }</code></span></summary><div><table><thead><tr></tr></thead><tbody><tr><td>Start</td><td><div class=\"dni-plaintext\"><pre>4</pre></div></td></tr><tr><td>Memory</td><td><span>2</span></td></tr><tr><td>Type</td><td><span>Integer</span></td></tr></tbody></table></div></details></td></tr><tr><td>3</td><td><details class=\"dni-treeview\"><summary><span class=\"dni-code-hint\"><code>Token { Start = 5, Memory = ;, Type = Semicolon }</code></span></summary><div><table><thead><tr></tr></thead><tbody><tr><td>Start</td><td><div class=\"dni-plaintext\"><pre>5</pre></div></td></tr><tr><td>Memory</td><td><span>;</span></td></tr><tr><td>Type</td><td><span>Semicolon</span></td></tr></tbody></table></div></details></td></tr><tr><td>4</td><td><details class=\"dni-treeview\"><summary><span class=\"dni-code-hint\"><code>Token { Start = 8, Memory = b, Type = Id }</code></span></summary><div><table><thead><tr></tr></thead><tbody><tr><td>Start</td><td><div class=\"dni-plaintext\"><pre>8</pre></div></td></tr><tr><td>Memory</td><td><span>b</span></td></tr><tr><td>Type</td><td><span>Id</span></td></tr></tbody></table></div></details></td></tr><tr><td>5</td><td><details class=\"dni-treeview\"><summary><span class=\"dni-code-hint\"><code>Token { Start = 10, Memory = =, Type = Assignment }</code></span></summary><div><table><thead><tr></tr></thead><tbody><tr><td>Start</td><td><div class=\"dni-plaintext\"><pre>10</pre></div></td></tr><tr><td>Memory</td><td><span>=</span></td></tr><tr><td>Type</td><td><span>Assignment</span></td></tr></tbody></table></div></details></td></tr><tr><td>6</td><td><details class=\"dni-treeview\"><summary><span class=\"dni-code-hint\"><code>Token { Start = 12, Memory = 3, Type = Integer }</code></span></summary><div><table><thead><tr></tr></thead><tbody><tr><td>Start</td><td><div class=\"dni-plaintext\"><pre>12</pre></div></td></tr><tr><td>Memory</td><td><span>3</span></td></tr><tr><td>Type</td><td><span>Integer</span></td></tr></tbody></table></div></details></td></tr><tr><td>7</td><td><details class=\"dni-treeview\"><summary><span class=\"dni-code-hint\"><code>Token { Start = 13, Memory = ;, Type = Semicolon }</code></span></summary><div><table><thead><tr></tr></thead><tbody><tr><td>Start</td><td><div class=\"dni-plaintext\"><pre>13</pre></div></td></tr><tr><td>Memory</td><td><span>;</span></td></tr><tr><td>Type</td><td><span>Semicolon</span></td></tr></tbody></table></div></details></td></tr><tr><td>8</td><td><details class=\"dni-treeview\"><summary><span class=\"dni-code-hint\"><code>Token { Start = 16, Memory = c, Type = Id }</code></span></summary><div><table><thead><tr></tr></thead><tbody><tr><td>Start</td><td><div class=\"dni-plaintext\"><pre>16</pre></div></td></tr><tr><td>Memory</td><td><span>c</span></td></tr><tr><td>Type</td><td><span>Id</span></td></tr></tbody></table></div></details></td></tr><tr><td>9</td><td><details class=\"dni-treeview\"><summary><span class=\"dni-code-hint\"><code>Token { Start = 18, Memory = =, Type = Assignment }</code></span></summary><div><table><thead><tr></tr></thead><tbody><tr><td>Start</td><td><div class=\"dni-plaintext\"><pre>18</pre></div></td></tr><tr><td>Memory</td><td><span>=</span></td></tr><tr><td>Type</td><td><span>Assignment</span></td></tr></tbody></table></div></details></td></tr><tr><td>10</td><td><details class=\"dni-treeview\"><summary><span class=\"dni-code-hint\"><code>Token { Start = 20, Memory = (, Type = LeftParenthesis }</code></span></summary><div><table><thead><tr></tr></thead><tbody><tr><td>Start</td><td><div class=\"dni-plaintext\"><pre>20</pre></div></td></tr><tr><td>Memory</td><td><span>(</span></td></tr><tr><td>Type</td><td><span>LeftParenthesis</span></td></tr></tbody></table></div></details></td></tr><tr><td>11</td><td><details class=\"dni-treeview\"><summary><span class=\"dni-code-hint\"><code>Token { Start = 21, Memory = 3, Type = Integer }</code></span></summary><div><table><thead><tr></tr></thead><tbody><tr><td>Start</td><td><div class=\"dni-plaintext\"><pre>21</pre></div></td></tr><tr><td>Memory</td><td><span>3</span></td></tr><tr><td>Type</td><td><span>Integer</span></td></tr></tbody></table></div></details></td></tr><tr><td>12</td><td><details class=\"dni-treeview\"><summary><span class=\"dni-code-hint\"><code>Token { Start = 23, Memory = +, Type = Add }</code></span></summary><div><table><thead><tr></tr></thead><tbody><tr><td>Start</td><td><div class=\"dni-plaintext\"><pre>23</pre></div></td></tr><tr><td>Memory</td><td><span>+</span></td></tr><tr><td>Type</td><td><span>Add</span></td></tr></tbody></table></div></details></td></tr><tr><td>13</td><td><details class=\"dni-treeview\"><summary><span class=\"dni-code-hint\"><code>Token { Start = 25, Memory = a, Type = Id }</code></span></summary><div><table><thead><tr></tr></thead><tbody><tr><td>Start</td><td><div class=\"dni-plaintext\"><pre>25</pre></div></td></tr><tr><td>Memory</td><td><span>a</span></td></tr><tr><td>Type</td><td><span>Id</span></td></tr></tbody></table></div></details></td></tr><tr><td>14</td><td><details class=\"dni-treeview\"><summary><span class=\"dni-code-hint\"><code>Token { Start = 26, Memory = ), Type = RightParenthesis }</code></span></summary><div><table><thead><tr></tr></thead><tbody><tr><td>Start</td><td><div class=\"dni-plaintext\"><pre>26</pre></div></td></tr><tr><td>Memory</td><td><span>)</span></td></tr><tr><td>Type</td><td><span>RightParenthesis</span></td></tr></tbody></table></div></details></td></tr><tr><td>15</td><td><details class=\"dni-treeview\"><summary><span class=\"dni-code-hint\"><code>Token { Start = 28, Memory = *, Type = Multiply }</code></span></summary><div><table><thead><tr></tr></thead><tbody><tr><td>Start</td><td><div class=\"dni-plaintext\"><pre>28</pre></div></td></tr><tr><td>Memory</td><td><span>*</span></td></tr><tr><td>Type</td><td><span>Multiply</span></td></tr></tbody></table></div></details></td></tr><tr><td>16</td><td><details class=\"dni-treeview\"><summary><span class=\"dni-code-hint\"><code>Token { Start = 30, Memory = b, Type = Id }</code></span></summary><div><table><thead><tr></tr></thead><tbody><tr><td>Start</td><td><div class=\"dni-plaintext\"><pre>30</pre></div></td></tr><tr><td>Memory</td><td><span>b</span></td></tr><tr><td>Type</td><td><span>Id</span></td></tr></tbody></table></div></details></td></tr><tr><td>17</td><td><details class=\"dni-treeview\"><summary><span class=\"dni-code-hint\"><code>Token { Start = 31, Memory = ;, Type = Semicolon }</code></span></summary><div><table><thead><tr></tr></thead><tbody><tr><td>Start</td><td><div class=\"dni-plaintext\"><pre>31</pre></div></td></tr><tr><td>Memory</td><td><span>;</span></td></tr><tr><td>Type</td><td><span>Semicolon</span></td></tr></tbody></table></div></details></td></tr><tr><td>18</td><td><details class=\"dni-treeview\"><summary><span class=\"dni-code-hint\"><code>Token { Start = 36, Memory = c, Type = Id }</code></span></summary><div><table><thead><tr></tr></thead><tbody><tr><td>Start</td><td><div class=\"dni-plaintext\"><pre>36</pre></div></td></tr><tr><td>Memory</td><td><span>c</span></td></tr><tr><td>Type</td><td><span>Id</span></td></tr></tbody></table></div></details></td></tr></tbody></table><style>\r\n",
       ".dni-code-hint {\r\n",
       "    font-style: italic;\r\n",
       "    overflow: hidden;\r\n",
       "    white-space: nowrap;\r\n",
       "}\r\n",
       ".dni-treeview {\r\n",
       "    white-space: nowrap;\r\n",
       "}\r\n",
       ".dni-treeview td {\r\n",
       "    vertical-align: top;\r\n",
       "    text-align: start;\r\n",
       "}\r\n",
       "details.dni-treeview {\r\n",
       "    padding-left: 1em;\r\n",
       "}\r\n",
       "table td {\r\n",
       "    text-align: start;\r\n",
       "}\r\n",
       "table tr { \r\n",
       "    vertical-align: top; \r\n",
       "    margin: 0em 0px;\r\n",
       "}\r\n",
       "table tr td pre \r\n",
       "{ \r\n",
       "    vertical-align: top !important; \r\n",
       "    margin: 0em 0px !important;\r\n",
       "} \r\n",
       "table th {\r\n",
       "    text-align: start;\r\n",
       "}\r\n",
       "</style>"
      ]
     },
     "metadata": {},
     "output_type": "display_data"
    }
   ],
   "source": [
    "#nullable enable\n",
    "public List<Token>? Lex(ReadOnlyMemory<char> feed) \n",
    "{\n",
    "    List<Token> tokens = new();\n",
    "\n",
    "    while (feed.Length > 0)\n",
    "    {\n",
    "        // get the first match\n",
    "        foreach (var rule in rules)\n",
    "        {\n",
    "            var match = rule.Pattern.EnumerateMatches(feed.Span);\n",
    "            if (match.MoveNext())\n",
    "            {\n",
    "                tokens.Add(new Token(input.Length - feed.Length, feed[0..match.Current.Length], rule.Type));\n",
    "                feed = feed[match.Current.Length..];\n",
    "                goto next;\n",
    "            }\n",
    "        }\n",
    "        \n",
    "        Console.WriteLine(\"Error at: \" + ((Func<Token, string>)(t => $\"{t.Start} {t.Type} {t.Memory}\"))(tokens[^1]));\n",
    "        return null;\n",
    "        next:;\n",
    "    }\n",
    "\n",
    "    // remove whitespace\n",
    "    return tokens.Where(t => t.Type != TokenType.Whitespace).ToList();\n",
    "}\n",
    "\n",
    "var tokens = Lex(input);\n",
    "tokens"
   ]
  },
  {
   "cell_type": "markdown",
   "metadata": {},
   "source": [
    "Great! Our input was an input `string` and now we have a `List<Token> tokens`!"
   ]
  },
  {
   "cell_type": "markdown",
   "metadata": {},
   "source": [
    "# Parser\n",
    "Once we have our string of tokens, the next step is the parser.\n",
    "\n",
    "The input of the parser is our string of tokens, and the output is something called an **Abstract Syntax Tree (AST)**. The AST is formed by walking through the grammar (at least on a recursive descent parser), and if you've done some reading on this topic, there is a possible point of confusion here - but I'll get back to that in a bit."
   ]
  },
  {
   "cell_type": "markdown",
   "metadata": {},
   "source": [
    "\n",
    "## Grammar\n",
    "I used the term \"grammar\" earlier without defining it. A *grammar* simply defines the rules of a language. Every language has a grammar, for example, take a possible subset of English grammar:\n",
    "```\n",
    "Sentence    -> Subject Verb Object\n",
    "Subject     -> i | he | they\n",
    "Verb        -> run | drive\n",
    "Object      -> Prepositional Phrase | Noun\n",
    "Prepositional Phrase -> to the Noun\n",
    "Noun        -> store | post office\n",
    "```\n",
    "\n",
    "The capital letters are called *non-terminals*, which means that they have one or more *production rules*, and can be *expanded* into the right hand side of one of their production rules. The lowercase letters are called *terminals* which is basically just the same thing as tokens honestly in that they cannot be expanded with production rules and therefore make up the final sentence of the grammar.  \n",
    "\n",
    "We can create an example sentence can be produced by running through rules of the grammar. For example, for the sentence `i run to the store`,\n",
    "\n",
    "```\n",
    "Sentence\n",
    "Subject Verb Object\n",
    "i Verb Object\n",
    "i run Object\n",
    "i run Prepositional Phrase\n",
    "i run to the Noun\n",
    "i run to the store\n",
    "```\n",
    "\n",
    "You may note two relevant points here:\n",
    "1. I followed an algorithm which is \"**always expand the left-most non-terminal first with the left-most rule**\"\n",
    "2. You could expand the production of this sentence into a tree\n"
   ]
  },
  {
   "cell_type": "code",
   "execution_count": 29,
   "metadata": {
    "dotnet_interactive": {
     "language": "mermaid"
    },
    "polyglot_notebook": {
     "kernelName": "mermaid"
    }
   },
   "outputs": [
    {
     "data": {
      "text/html": [
       "<div class=\"mermaidMarkdownContainer\" style=\"background-color:white\">\r\n",
       "<link rel=\"stylesheet\" href=\"https://cdnjs.cloudflare.com/ajax/libs/font-awesome/6.2.0/css/all.min.css\">\r\n",
       "<div id=\"1824060148df41ce9cc10b39e118881d\"></div>\r\n",
       "<script type=\"module\">\r\n",
       "\r\n",
       "            import mermaid from 'https://cdn.jsdelivr.net/npm/mermaid@10.5.0/dist/mermaid.esm.min.mjs';\r\n",
       "            let renderTarget = document.getElementById('1824060148df41ce9cc10b39e118881d');\r\n",
       "            try {\r\n",
       "                const {svg, bindFunctions} = await mermaid.mermaidAPI.render( \r\n",
       "                    'mermaid_1824060148df41ce9cc10b39e118881d', \r\n",
       "                    `graph TD\n",
       "    A[Sentence] --> B[Subject]\n",
       "    A --> C[Verb]\n",
       "    A --> D[Object]\n",
       "    B --> E[i]\n",
       "    C --> F[run]\n",
       "    D --> G[Prepositional Phrase]\n",
       "    G --> H[to the]\n",
       "    G --> I[Noun]\n",
       "    I --> J[store]`);\r\n",
       "                renderTarget.innerHTML = svg;\r\n",
       "                bindFunctions?.(renderTarget);\r\n",
       "            }\r\n",
       "            catch (error) {\r\n",
       "                console.log(error);\r\n",
       "            }\r\n",
       "</script>\r\n",
       "</div>\r\n"
      ]
     },
     "metadata": {},
     "output_type": "display_data"
    }
   ],
   "source": [
    "graph TD\n",
    "    A[Sentence] --> B[Subject]\n",
    "    A --> C[Verb]\n",
    "    A --> D[Object]\n",
    "    B --> E[i]\n",
    "    C --> F[run]\n",
    "    D --> G[Prepositional Phrase]\n",
    "    G --> H[to the]\n",
    "    G --> I[Noun]\n",
    "    I --> J[store]"
   ]
  },
  {
   "cell_type": "markdown",
   "metadata": {},
   "source": [
    "For the first point, a modified version of this algorithm is how we're going to actually parse our sentence. In the above example, `i run to the store` happened to be the sentence we get when we follow our algorithm. But imagine we weren't trying to randomly produce sentences, but instead get a specific sentence at the end *to make sure it conforms to the rules of the grammar* (are your clocks ticking?). There are two modifications we need to make, and one important point to keep in mind:\n",
    "1. Keep a pointer to our list of tokens as we go along.\n",
    "2. When we reach a terminal (at a leaf), compare it against the terminal pointed to by our pointer. If they are the same, continue with the algorithm. If not, rewind, remembering to move our pointer back as needed.\n",
    "\n",
    "### Left Recursion\n",
    "> Important Point: __no non-terminal can have a rule where its own non-terminal is the first symbol in the grammar__\n",
    ">\n",
    "> Why? Our algorithm will keep looping forever. For example:\n",
    "> \n",
    "> grammar:\n",
    "> ```\n",
    "> S -> E\n",
    "> E -> E + E\n",
    "> ```\n",
    "> \n",
    "> derivation:\n",
    "> ```\n",
    "> S\n",
    "> E\n",
    "> E + E\n",
    "> E + E + E\n",
    "> E + E + E + E\n",
    "> ...\n",
    "> ```"
   ]
  },
  {
   "cell_type": "markdown",
   "metadata": {},
   "source": [
    "\n",
    "Here is the first part of our grammar:\n",
    "```\n",
    "Program                 -> Statements | Expression\n",
    "Statements              -> Statement Statements\n",
    "Statement               -> Assignment Statement\n",
    "Assignment Statement    -> id = Expression;\n",
    "```"
   ]
  },
  {
   "cell_type": "markdown",
   "metadata": {},
   "source": [
    "### Ambiguity\n",
    "Another important point to note is that most languages that exist have some form of *ambiguity*, which means that for at least one sentence in the language, there is more than one way to derive rules to produce that sentence. Take the following example:\n",
    "\n",
    "grammar:\n",
    "```\n",
    "E   ->\n",
    "    E + E\n",
    "    E * E\n",
    "    E\n",
    "```\n",
    "\n",
    "target sentence:\n",
    "```\n",
    "1 + 2 * 3\n",
    "```\n",
    "\n",
    "(Parentheses added for visual clarification)<br>derivation 1:\n",
    "```\n",
    "E\n",
    "(E + E)\n",
    "(E + (E * E))\n",
    "1 + 2 * 3\n",
    "```\n",
    "\n",
    "derivation 2:\n",
    "```\n",
    "E\n",
    "(E * E)\n",
    "((E + E) * E)\n",
    "1 + 2 * 3\n",
    "```\n",
    "\n",
    "You'll also note we broke our \"no left-recursion\" rule. Sometimes ambiguity is okay, but in this instance, you'll note that it actually changes the meaning of the sentence (`(1 + (2 * 3))` = `7`, `((1 + 2) * 3)` = `9`). I point this out because often times, when we have ambiguity and left-recursion, sometimes we can knock both problems out at the same time by introducing new non-terminals:\n",
    "\n",
    "```\n",
    "Expression   ->\n",
    "    Term + Expression\n",
    "    Term - Expression\n",
    "    Term\n",
    "Term   ->\n",
    "    Factor * Term\n",
    "    Factor / Term\n",
    "    Factor\n",
    "Factor  ->\n",
    "    (Expression) | id | int\n",
    "```\n",
    "\n",
    "This is actually the second part of our final grammar."
   ]
  },
  {
   "cell_type": "markdown",
   "metadata": {},
   "source": [
    "> Note: I think it's important to note here that I am skipping over entire classes of parsers and grammars.\n",
    "> \n",
    "> The grammar I am describing here is called \"**LL**\", which means it reads tokens from left-to-right and constructs a \"left-most derivation\" (just tries doing all the rules and stuff from the left first), and the parser I am writing is called \"manual recursive descent\". It is also \"top-down\", meaning it starts from the first non-terminal and tries to produce a matching sentence.\n",
    "> \n",
    "> A point of inefficiency for the parser I'm writing is that it tries all the rules until it finds a match, meaning that if it does *not* find a match, it tries every single navigation of productions before giving up. This isn't *terrible*, as production compilers often use a mixture of parsing techniques with recursive descent often being the primary one because of the flexibility it provides, but it is worth mentioning that there are other parsing techniques that eliminate some of these inefficiencies by requiring you to be stricter with how you define your grammar.\n",
    "\n",
    "\n",
    "And about that \"point of confusion\" I mentioned earlier:\n",
    "\n",
    "The path taken to navigate the grammar to result in the final sentence is often called a *parse tree*. This is an actual tree you can draw from the rules of the grammar, and is often very helpful for when you're confused (see Mermaid tree above).\n",
    "\n",
    "However, it is *different* from the **AST**, in that your AST is a data structure you use in the next phase of your parser and your syntax tree is (probably) not. It doesn't mean that you can't create a data structure for a syntax tree or that doing so would never be helpful, but it's often easier to just produce your AST as you walk along your grammar."
   ]
  },
  {
   "cell_type": "markdown",
   "metadata": {},
   "source": [
    "Now back to code."
   ]
  },
  {
   "cell_type": "code",
   "execution_count": 30,
   "metadata": {
    "dotnet_interactive": {
     "language": "csharp"
    },
    "polyglot_notebook": {
     "kernelName": "csharp"
    }
   },
   "outputs": [],
   "source": [
    "using System.Collections.Immutable;\n",
    "\n",
    "public record Program(ImmutableList<Statement> Statements, Expression Eval);\n",
    "public record Statement();\n",
    "public record AssignmentStatement(Token Identifier, Expression Expression) : Statement();\n",
    "public record Expression();\n",
    "public record NameExpression(Token Identifier) : Expression();\n",
    "public record BinaryExpression(Expression Left, Token Operator, Expression Right) : Expression();\n",
    "public record IntLiteralExpression(int Value) : Expression();"
   ]
  },
  {
   "cell_type": "markdown",
   "metadata": {},
   "source": [
    "We can define our types using `record`s in C#. `record`s are kind of like classes, but they can be defined in a single statement. The member definitions passed in the `()`s become `readonly` auto-properties, meaning they are immutable."
   ]
  },
  {
   "cell_type": "markdown",
   "metadata": {},
   "source": [
    "In a manual recursive descent parser, you can define your grammar rules directly as code.\n",
    "\n",
    "This code tries to parse the next token as an integer literal, returning the `IntLiteralExpression` node of our tree if it succeeds and `null` if it fails, also writing to `rest` to move our pointer to the next token appropriately.\n",
    "\n",
    "Like our general algorithm above with pointers, we need to move our pointer up on success and move it back on fail, so the the weird `!= null` comparisons are to ensure we do that while keeping everything an expression. This code would probably look a lot cleaner in F#."
   ]
  },
  {
   "cell_type": "code",
   "execution_count": 31,
   "metadata": {
    "dotnet_interactive": {
     "language": "csharp"
    },
    "polyglot_notebook": {
     "kernelName": "csharp"
    }
   },
   "outputs": [
    {
     "data": {
      "text/html": [
       "<details open=\"open\" class=\"dni-treeview\"><summary><span class=\"dni-code-hint\"><code>IntLiteralExpression { Value = 3 }</code></span></summary><div><table><thead><tr></tr></thead><tbody><tr><td>Value</td><td><div class=\"dni-plaintext\"><pre>3</pre></div></td></tr></tbody></table></div></details><style>\r\n",
       ".dni-code-hint {\r\n",
       "    font-style: italic;\r\n",
       "    overflow: hidden;\r\n",
       "    white-space: nowrap;\r\n",
       "}\r\n",
       ".dni-treeview {\r\n",
       "    white-space: nowrap;\r\n",
       "}\r\n",
       ".dni-treeview td {\r\n",
       "    vertical-align: top;\r\n",
       "    text-align: start;\r\n",
       "}\r\n",
       "details.dni-treeview {\r\n",
       "    padding-left: 1em;\r\n",
       "}\r\n",
       "table td {\r\n",
       "    text-align: start;\r\n",
       "}\r\n",
       "table tr { \r\n",
       "    vertical-align: top; \r\n",
       "    margin: 0em 0px;\r\n",
       "}\r\n",
       "table tr td pre \r\n",
       "{ \r\n",
       "    vertical-align: top !important; \r\n",
       "    margin: 0em 0px !important;\r\n",
       "} \r\n",
       "table th {\r\n",
       "    text-align: start;\r\n",
       "}\r\n",
       "</style>"
      ]
     },
     "metadata": {},
     "output_type": "display_data"
    }
   ],
   "source": [
    "#nullable enable\n",
    "static Expression? ParseLiteral(ReadOnlySpan<Token> tokens, out ReadOnlySpan<Token> rest)\n",
    "    => ((rest = tokens) != null\n",
    "    && tokens is [{ Type: TokenType.Integer } token, ..var _rest]\n",
    "    && int.TryParse(token.Memory.Span, out int value)\n",
    "    && (rest = _rest) != null)\n",
    "    ?\n",
    "    new IntLiteralExpression(value)\n",
    "    :\n",
    "    null;\n",
    "\n",
    "ParseLiteral(Lex(\"3\".AsMemory()).ToArray().AsSpan(), out _)"
   ]
  },
  {
   "cell_type": "markdown",
   "metadata": {},
   "source": [
    "We can continue to define more rules so we can parse expressions:"
   ]
  },
  {
   "cell_type": "code",
   "execution_count": 32,
   "metadata": {
    "dotnet_interactive": {
     "language": "csharp"
    },
    "polyglot_notebook": {
     "kernelName": "csharp"
    }
   },
   "outputs": [
    {
     "data": {
      "text/html": [
       "<details open=\"open\" class=\"dni-treeview\"><summary><span class=\"dni-code-hint\"><code>BinaryExpression { Left = IntLiteralExpression { Value = 3 }, Operator = Token { Start = 33, Memory = +, Type = Add }, Right = IntLiteralExpression { Value = 4 } }</code></span></summary><div><table><thead><tr></tr></thead><tbody><tr><td>Left</td><td><details class=\"dni-treeview\"><summary><span class=\"dni-code-hint\"><code>IntLiteralExpression { Value = 3 }</code></span></summary><div><table><thead><tr></tr></thead><tbody><tr><td>Value</td><td><div class=\"dni-plaintext\"><pre>3</pre></div></td></tr></tbody></table></div></details></td></tr><tr><td>Operator</td><td><details class=\"dni-treeview\"><summary><span class=\"dni-code-hint\"><code>Token { Start = 33, Memory = +, Type = Add }</code></span></summary><div><table><thead><tr></tr></thead><tbody><tr><td>Start</td><td><div class=\"dni-plaintext\"><pre>33</pre></div></td></tr><tr><td>Memory</td><td><span>+</span></td></tr><tr><td>Type</td><td><span>Add</span></td></tr></tbody></table></div></details></td></tr><tr><td>Right</td><td><details class=\"dni-treeview\"><summary><span class=\"dni-code-hint\"><code>IntLiteralExpression { Value = 4 }</code></span></summary><div><table><thead><tr></tr></thead><tbody><tr><td>Value</td><td><div class=\"dni-plaintext\"><pre>4</pre></div></td></tr></tbody></table></div></details></td></tr></tbody></table></div></details><style>\r\n",
       ".dni-code-hint {\r\n",
       "    font-style: italic;\r\n",
       "    overflow: hidden;\r\n",
       "    white-space: nowrap;\r\n",
       "}\r\n",
       ".dni-treeview {\r\n",
       "    white-space: nowrap;\r\n",
       "}\r\n",
       ".dni-treeview td {\r\n",
       "    vertical-align: top;\r\n",
       "    text-align: start;\r\n",
       "}\r\n",
       "details.dni-treeview {\r\n",
       "    padding-left: 1em;\r\n",
       "}\r\n",
       "table td {\r\n",
       "    text-align: start;\r\n",
       "}\r\n",
       "table tr { \r\n",
       "    vertical-align: top; \r\n",
       "    margin: 0em 0px;\r\n",
       "}\r\n",
       "table tr td pre \r\n",
       "{ \r\n",
       "    vertical-align: top !important; \r\n",
       "    margin: 0em 0px !important;\r\n",
       "} \r\n",
       "table th {\r\n",
       "    text-align: start;\r\n",
       "}\r\n",
       "</style>"
      ]
     },
     "metadata": {},
     "output_type": "display_data"
    }
   ],
   "source": [
    "#nullable enable\n",
    "static Expression? ParseExpression(ReadOnlySpan<Token> tokens, out ReadOnlySpan<Token> rest)\n",
    "    => ParseTerm(tokens, out rest) switch\n",
    "    {\n",
    "        { } left => rest switch\n",
    "            {\n",
    "                [{ Type: TokenType.Add or TokenType.Subtract } op, ..var _rest]\n",
    "                    when ParseTerm(_rest, out rest) is { } right => new BinaryExpression(left, op, right),\n",
    "                _ => left\n",
    "            },\n",
    "        _ => null\n",
    "    };\n",
    "\n",
    "static Expression? ParseTerm(ReadOnlySpan<Token> tokens, out ReadOnlySpan<Token> rest)\n",
    "    => ParseFactor(tokens, out rest) switch\n",
    "    {\n",
    "        { } left => rest switch\n",
    "            {\n",
    "                [{ Type: TokenType.Multiply or TokenType.Divide } op, ..var _rest]\n",
    "                    when ParseFactor(_rest, out rest) is { } right => new BinaryExpression(left, op, right),\n",
    "                _ => left\n",
    "            },\n",
    "        _ => null\n",
    "    };\n",
    "\n",
    "static Expression? ParseFactor(ReadOnlySpan<Token> tokens, out ReadOnlySpan<Token> rest)\n",
    "    => ParseWrappedExpression(tokens, out rest)\n",
    "    ?? ParseLiteral(tokens, out rest)\n",
    "    ?? (tokens is [{ Type: TokenType.Id }, ..var _rest] && (rest = _rest) != null\n",
    "        ? new NameExpression(tokens[0])\n",
    "        : null);\n",
    "\n",
    "static Expression? ParseWrappedExpression(ReadOnlySpan<Token> tokens, out ReadOnlySpan<Token> rest)\n",
    "    => ((rest = tokens) != null\n",
    "    && tokens is [{ Type: TokenType.LeftParenthesis } left, ..var _rest]\n",
    "    && ParseExpression(_rest, out var __rest) is { } expression\n",
    "    && __rest is [{ Type: TokenType.RightParenthesis } right, ..var ___rest]\n",
    "    && (rest = ___rest) != null)\n",
    "    ?\n",
    "    expression\n",
    "    :\n",
    "    null;\n",
    "\n",
    "ParseExpression(Lex(\"(3 + 4)\".AsMemory()).ToArray().AsSpan(), out _)"
   ]
  },
  {
   "cell_type": "markdown",
   "metadata": {},
   "source": [
    "And statements:"
   ]
  },
  {
   "cell_type": "code",
   "execution_count": 33,
   "metadata": {
    "dotnet_interactive": {
     "language": "csharp"
    },
    "polyglot_notebook": {
     "kernelName": "csharp"
    }
   },
   "outputs": [
    {
     "data": {
      "text/html": [
       "<table><thead><tr><th><i>index</i></th><th>value</th></tr></thead><tbody><tr><td>0</td><td><details class=\"dni-treeview\"><summary><span class=\"dni-code-hint\"><code>AssignmentStatement { Identifier = Token { Start = 31, Memory = a, Type = Id }, Expression = IntLiteralExpression { Value = 3 } }</code></span></summary><div><table><thead><tr></tr></thead><tbody><tr><td>Identifier</td><td><details class=\"dni-treeview\"><summary><span class=\"dni-code-hint\"><code>Token { Start = 31, Memory = a, Type = Id }</code></span></summary><div><table><thead><tr></tr></thead><tbody><tr><td>Start</td><td><div class=\"dni-plaintext\"><pre>31</pre></div></td></tr><tr><td>Memory</td><td><span>a</span></td></tr><tr><td>Type</td><td><span>Id</span></td></tr></tbody></table></div></details></td></tr><tr><td>Expression</td><td><details class=\"dni-treeview\"><summary><span class=\"dni-code-hint\"><code>IntLiteralExpression { Value = 3 }</code></span></summary><div><table><thead><tr></tr></thead><tbody><tr><td>Value</td><td><div class=\"dni-plaintext\"><pre>3</pre></div></td></tr></tbody></table></div></details></td></tr></tbody></table></div></details></td></tr></tbody></table><style>\r\n",
       ".dni-code-hint {\r\n",
       "    font-style: italic;\r\n",
       "    overflow: hidden;\r\n",
       "    white-space: nowrap;\r\n",
       "}\r\n",
       ".dni-treeview {\r\n",
       "    white-space: nowrap;\r\n",
       "}\r\n",
       ".dni-treeview td {\r\n",
       "    vertical-align: top;\r\n",
       "    text-align: start;\r\n",
       "}\r\n",
       "details.dni-treeview {\r\n",
       "    padding-left: 1em;\r\n",
       "}\r\n",
       "table td {\r\n",
       "    text-align: start;\r\n",
       "}\r\n",
       "table tr { \r\n",
       "    vertical-align: top; \r\n",
       "    margin: 0em 0px;\r\n",
       "}\r\n",
       "table tr td pre \r\n",
       "{ \r\n",
       "    vertical-align: top !important; \r\n",
       "    margin: 0em 0px !important;\r\n",
       "} \r\n",
       "table th {\r\n",
       "    text-align: start;\r\n",
       "}\r\n",
       "</style>"
      ]
     },
     "metadata": {},
     "output_type": "display_data"
    }
   ],
   "source": [
    "#nullable enable\n",
    "static ImmutableList<Statement> ParseStatements(ReadOnlySpan<Token> tokens, out ReadOnlySpan<Token> rest)\n",
    "    => ParseStatement(tokens, out rest) switch\n",
    "        {\n",
    "            null => ImmutableList<Statement>.Empty,\n",
    "            var statement => ParseStatements(rest, out rest).Insert(0, statement)\n",
    "        };\n",
    "\n",
    "static Statement? ParseStatement(ReadOnlySpan<Token> tokens, out ReadOnlySpan<Token> rest)\n",
    "    => ParseAssignment(tokens, out rest);\n",
    "\n",
    "static AssignmentStatement? ParseAssignment(ReadOnlySpan<Token> tokens, out ReadOnlySpan<Token> rest)\n",
    "    =>  (rest = tokens).Length > 0\n",
    "    &&  tokens is [{ Type: TokenType.Id }, { Type: TokenType.Assignment }, ..var _rest]\n",
    "    &&  ParseExpression(_rest, out var __rest) is { } expression\n",
    "    &&  __rest is [{ Type: TokenType.Semicolon }, ..var ___rest] && (rest = ___rest) != null // how do i make this check a no-op\n",
    "        ? new AssignmentStatement(tokens[0], expression)\n",
    "        : null;\n",
    "\n",
    "ParseStatements(Lex(\"a = 3;\".AsMemory()).ToArray().AsSpan(), out _)"
   ]
  },
  {
   "cell_type": "markdown",
   "metadata": {},
   "source": [
    "**bug is that we don't reject properly when invalid program**"
   ]
  },
  {
   "cell_type": "markdown",
   "metadata": {},
   "source": [
    "And finally our entire program:"
   ]
  },
  {
   "cell_type": "code",
   "execution_count": 34,
   "metadata": {
    "dotnet_interactive": {
     "language": "csharp"
    },
    "polyglot_notebook": {
     "kernelName": "csharp"
    }
   },
   "outputs": [
    {
     "data": {
      "text/html": [
       "<details open=\"open\" class=\"dni-treeview\"><summary><span class=\"dni-code-hint\"><code>Program { Statements = System.Collections.Immutable.ImmutableList`1[Submission#28+Statement], Eval = NameExpression { Identifier = Token { Start = 36, Memory = c, Type = Id } } }</code></span></summary><div><table><thead><tr></tr></thead><tbody><tr><td>Statements</td><td><table><thead><tr><th><i>index</i></th><th>value</th></tr></thead><tbody><tr><td>0</td><td><details class=\"dni-treeview\"><summary><span class=\"dni-code-hint\"><code>AssignmentStatement { Identifier = Token { Start = 0, Memory = a, Type = Id }, Expression = IntLiteralExpression { Value = 2 } }</code></span></summary><div><table><thead><tr></tr></thead><tbody><tr><td>Identifier</td><td><details class=\"dni-treeview\"><summary><span class=\"dni-code-hint\"><code>Token { Start = 0, Memory = a, Type = Id }</code></span></summary><div><table><thead><tr></tr></thead><tbody><tr><td>Start</td><td><div class=\"dni-plaintext\"><pre>0</pre></div></td></tr><tr><td>Memory</td><td><span>a</span></td></tr><tr><td>Type</td><td><span>Id</span></td></tr></tbody></table></div></details></td></tr><tr><td>Expression</td><td><details class=\"dni-treeview\"><summary><span class=\"dni-code-hint\"><code>IntLiteralExpression { Value = 2 }</code></span></summary><div><table><thead><tr></tr></thead><tbody><tr><td>Value</td><td><div class=\"dni-plaintext\"><pre>2</pre></div></td></tr></tbody></table></div></details></td></tr></tbody></table></div></details></td></tr><tr><td>1</td><td><details class=\"dni-treeview\"><summary><span class=\"dni-code-hint\"><code>AssignmentStatement { Identifier = Token { Start = 8, Memory = b, Type = Id }, Expression = IntLiteralExpression { Value = 3 } }</code></span></summary><div><table><thead><tr></tr></thead><tbody><tr><td>Identifier</td><td><details class=\"dni-treeview\"><summary><span class=\"dni-code-hint\"><code>Token { Start = 8, Memory = b, Type = Id }</code></span></summary><div><table><thead><tr></tr></thead><tbody><tr><td>Start</td><td><div class=\"dni-plaintext\"><pre>8</pre></div></td></tr><tr><td>Memory</td><td><span>b</span></td></tr><tr><td>Type</td><td><span>Id</span></td></tr></tbody></table></div></details></td></tr><tr><td>Expression</td><td><details class=\"dni-treeview\"><summary><span class=\"dni-code-hint\"><code>IntLiteralExpression { Value = 3 }</code></span></summary><div><table><thead><tr></tr></thead><tbody><tr><td>Value</td><td><div class=\"dni-plaintext\"><pre>3</pre></div></td></tr></tbody></table></div></details></td></tr></tbody></table></div></details></td></tr><tr><td>2</td><td><details class=\"dni-treeview\"><summary><span class=\"dni-code-hint\"><code>AssignmentStatement { Identifier = Token { Start = 16, Memory = c, Type = Id }, Expression = BinaryExpression { Left = BinaryExpression { Left = IntLiteralExpression { Value = 3 }, Operator = Token { Start = 23, Memory = +, Type = Add }, Right = NameExpression { Identifier = Token { Start = 25, Memo...</code></span></summary><div><table><thead><tr></tr></thead><tbody><tr><td>Identifier</td><td><details class=\"dni-treeview\"><summary><span class=\"dni-code-hint\"><code>Token { Start = 16, Memory = c, Type = Id }</code></span></summary><div><table><thead><tr></tr></thead><tbody><tr><td>Start</td><td><div class=\"dni-plaintext\"><pre>16</pre></div></td></tr><tr><td>Memory</td><td><span>c</span></td></tr><tr><td>Type</td><td><span>Id</span></td></tr></tbody></table></div></details></td></tr><tr><td>Expression</td><td><details class=\"dni-treeview\"><summary><span class=\"dni-code-hint\"><code>BinaryExpression { Left = BinaryExpression { Left = IntLiteralExpression { Value = 3 }, Operator = Token { Start = 23, Memory = +, Type = Add }, Right = NameExpression { Identifier = Token { Start = 25, Memory = a, Type = Id } } }, Operator = Token { Start = 28, Memory = *, Type = Multiply }, Right ...</code></span></summary><div><table><thead><tr></tr></thead><tbody><tr><td>Left</td><td><details class=\"dni-treeview\"><summary><span class=\"dni-code-hint\"><code>BinaryExpression { Left = IntLiteralExpression { Value = 3 }, Operator = Token { Start = 23, Memory = +, Type = Add }, Right = NameExpression { Identifier = Token { Start = 25, Memory = a, Type = Id } } }</code></span></summary><div><table><thead><tr></tr></thead><tbody><tr><td>Left</td><td><details class=\"dni-treeview\"><summary><span class=\"dni-code-hint\"><code>IntLiteralExpression { Value = 3 }</code></span></summary><div><table><thead><tr></tr></thead><tbody><tr><td>Value</td><td>3</td></tr></tbody></table></div></details></td></tr><tr><td>Operator</td><td><details class=\"dni-treeview\"><summary><span class=\"dni-code-hint\"><code>Token { Start = 23, Memory = +, Type = Add }</code></span></summary><div><table><thead><tr></tr></thead><tbody><tr><td>Start</td><td>23</td></tr><tr><td>Memory</td><td>+</td></tr><tr><td>Type</td><td>Add</td></tr></tbody></table></div></details></td></tr><tr><td>Right</td><td><details class=\"dni-treeview\"><summary><span class=\"dni-code-hint\"><code>NameExpression { Identifier = Token { Start = 25, Memory = a, Type = Id } }</code></span></summary><div><table><thead><tr></tr></thead><tbody><tr><td>Identifier</td><td>Token { Start = 25, Memory = a, Type = Id }</td></tr></tbody></table></div></details></td></tr></tbody></table></div></details></td></tr><tr><td>Operator</td><td><details class=\"dni-treeview\"><summary><span class=\"dni-code-hint\"><code>Token { Start = 28, Memory = *, Type = Multiply }</code></span></summary><div><table><thead><tr></tr></thead><tbody><tr><td>Start</td><td><div class=\"dni-plaintext\"><pre>28</pre></div></td></tr><tr><td>Memory</td><td><span>*</span></td></tr><tr><td>Type</td><td><span>Multiply</span></td></tr></tbody></table></div></details></td></tr><tr><td>Right</td><td><details class=\"dni-treeview\"><summary><span class=\"dni-code-hint\"><code>NameExpression { Identifier = Token { Start = 30, Memory = b, Type = Id } }</code></span></summary><div><table><thead><tr></tr></thead><tbody><tr><td>Identifier</td><td><details class=\"dni-treeview\"><summary><span class=\"dni-code-hint\"><code>Token { Start = 30, Memory = b, Type = Id }</code></span></summary><div><table><thead><tr></tr></thead><tbody><tr><td>Start</td><td>30</td></tr><tr><td>Memory</td><td>b</td></tr><tr><td>Type</td><td>Id</td></tr></tbody></table></div></details></td></tr></tbody></table></div></details></td></tr></tbody></table></div></details></td></tr></tbody></table></div></details></td></tr></tbody></table></td></tr><tr><td>Eval</td><td><details class=\"dni-treeview\"><summary><span class=\"dni-code-hint\"><code>NameExpression { Identifier = Token { Start = 36, Memory = c, Type = Id } }</code></span></summary><div><table><thead><tr></tr></thead><tbody><tr><td>Identifier</td><td><details class=\"dni-treeview\"><summary><span class=\"dni-code-hint\"><code>Token { Start = 36, Memory = c, Type = Id }</code></span></summary><div><table><thead><tr></tr></thead><tbody><tr><td>Start</td><td><div class=\"dni-plaintext\"><pre>36</pre></div></td></tr><tr><td>Memory</td><td><span>c</span></td></tr><tr><td>Type</td><td><span>Id</span></td></tr></tbody></table></div></details></td></tr></tbody></table></div></details></td></tr></tbody></table></div></details><style>\r\n",
       ".dni-code-hint {\r\n",
       "    font-style: italic;\r\n",
       "    overflow: hidden;\r\n",
       "    white-space: nowrap;\r\n",
       "}\r\n",
       ".dni-treeview {\r\n",
       "    white-space: nowrap;\r\n",
       "}\r\n",
       ".dni-treeview td {\r\n",
       "    vertical-align: top;\r\n",
       "    text-align: start;\r\n",
       "}\r\n",
       "details.dni-treeview {\r\n",
       "    padding-left: 1em;\r\n",
       "}\r\n",
       "table td {\r\n",
       "    text-align: start;\r\n",
       "}\r\n",
       "table tr { \r\n",
       "    vertical-align: top; \r\n",
       "    margin: 0em 0px;\r\n",
       "}\r\n",
       "table tr td pre \r\n",
       "{ \r\n",
       "    vertical-align: top !important; \r\n",
       "    margin: 0em 0px !important;\r\n",
       "} \r\n",
       "table th {\r\n",
       "    text-align: start;\r\n",
       "}\r\n",
       "</style>"
      ]
     },
     "metadata": {},
     "output_type": "display_data"
    }
   ],
   "source": [
    "#nullable enable\n",
    "static Program? Parse(ReadOnlySpan<Token> tokens, out ReadOnlySpan<Token> rest)\n",
    "    => (ParseStatements(tokens, out rest) is ImmutableList<Statement> statements\n",
    "    && ParseExpression(rest, out rest) is var expression)\n",
    "    ? new Program(statements, expression)\n",
    "    : null;\n",
    "\n",
    "Program? program = Parse(tokens.ToArray().AsSpan(), out _);\n",
    "\n",
    "program"
   ]
  },
  {
   "cell_type": "markdown",
   "metadata": {},
   "source": [
    "# Semantic Analysis\n",
    "Now that we have our AST, the next phase of the compiler is semantic analysis.\n",
    "\n",
    "The role of semantic analysis can change depending on how you define your language. Your language, like F#, might provide rich type inference and strict type checking, and here is where you'll do most of that checking. You can also do some high-level optimization during this phase, like [constant folding](https://en.wikipedia.org/wiki/Constant_folding), for example.\n",
    "\n",
    "For our purposes, we're just going to do the important yet humble act of making sure we don't use a variable before it is defined and don't define one multiple times."
   ]
  },
  {
   "cell_type": "code",
   "execution_count": 35,
   "metadata": {
    "dotnet_interactive": {
     "language": "csharp"
    },
    "polyglot_notebook": {
     "kernelName": "csharp"
    }
   },
   "outputs": [
    {
     "data": {
      "text/html": [
       "<div class=\"dni-plaintext\"><pre>[ a, b, c ]</pre></div><style>\r\n",
       ".dni-code-hint {\r\n",
       "    font-style: italic;\r\n",
       "    overflow: hidden;\r\n",
       "    white-space: nowrap;\r\n",
       "}\r\n",
       ".dni-treeview {\r\n",
       "    white-space: nowrap;\r\n",
       "}\r\n",
       ".dni-treeview td {\r\n",
       "    vertical-align: top;\r\n",
       "    text-align: start;\r\n",
       "}\r\n",
       "details.dni-treeview {\r\n",
       "    padding-left: 1em;\r\n",
       "}\r\n",
       "table td {\r\n",
       "    text-align: start;\r\n",
       "}\r\n",
       "table tr { \r\n",
       "    vertical-align: top; \r\n",
       "    margin: 0em 0px;\r\n",
       "}\r\n",
       "table tr td pre \r\n",
       "{ \r\n",
       "    vertical-align: top !important; \r\n",
       "    margin: 0em 0px !important;\r\n",
       "} \r\n",
       "table th {\r\n",
       "    text-align: start;\r\n",
       "}\r\n",
       "</style>"
      ]
     },
     "metadata": {},
     "output_type": "display_data"
    }
   ],
   "source": [
    "#nullable enable\n",
    "static List<string>? GetSymbols(Program program)\n",
    "{\n",
    "    var symbols = new List<string>();\n",
    "\n",
    "    foreach (Statement statement in program.Statements)\n",
    "    {\n",
    "        if (statement is AssignmentStatement assignment)\n",
    "        {\n",
    "            // multiply defined\n",
    "            if (symbols.Contains(assignment.Identifier.Memory.ToString()))\n",
    "                return null;\n",
    "            \n",
    "            if (IsValidExpression(symbols, assignment.Expression) is false)\n",
    "                return null;\n",
    "            \n",
    "            // check expression\n",
    "            symbols.Add(assignment.Identifier.Memory.ToString());\n",
    "        }\n",
    "    }\n",
    "\n",
    "    return symbols;\n",
    "\n",
    "    static bool IsValidExpression(List<string> symbols, Expression expression)\n",
    "        => expression switch\n",
    "        {\n",
    "            NameExpression name => symbols.Contains(name.Identifier.Memory.ToString()),\n",
    "            BinaryExpression binary => IsValidExpression(symbols, binary.Left) \n",
    "                && IsValidExpression(symbols, binary.Right),\n",
    "            IntLiteralExpression _ => true,\n",
    "            _ => false\n",
    "        };\n",
    "}\n",
    "\n",
    "var symbols = GetSymbols(program);\n",
    "\n",
    "symbols"
   ]
  },
  {
   "cell_type": "markdown",
   "metadata": {},
   "source": [
    "# Codegen\n",
    "For codegen, we're going to be using [AsmResolver](https://github.com/Washi1337/AsmResolver) to emit [CIL](https://en.wikipedia.org/wiki/Common_Intermediate_Language)."
   ]
  },
  {
   "cell_type": "code",
   "execution_count": 36,
   "metadata": {
    "dotnet_interactive": {
     "language": "csharp"
    },
    "polyglot_notebook": {
     "kernelName": "csharp"
    }
   },
   "outputs": [
    {
     "data": {
      "text/html": [
       "<div><div></div><div></div><div><strong>Installed Packages</strong><ul><li><span>AsmResolver.DotNet, 5.4.0</span></li></ul></div></div>"
      ]
     },
     "metadata": {},
     "output_type": "display_data"
    }
   ],
   "source": [
    "#r \"nuget: AsmResolver.DotNet, 5.4.0\"\n",
    "\n",
    "using AsmResolver.DotNet;\n",
    "using AsmResolver.DotNet.Code.Cil;\n",
    "using AsmResolver.DotNet.Signatures;\n",
    "using AsmResolver.DotNet.Signatures.Types;\n",
    "using AsmResolver.PE.DotNet.Cil;\n",
    "using AsmResolver.PE.DotNet.Metadata.Tables.Rows;"
   ]
  },
  {
   "cell_type": "markdown",
   "metadata": {},
   "source": [
    "We're going to need to write some boilerplate to define an assembly and module, and define our entry point."
   ]
  },
  {
   "cell_type": "code",
   "execution_count": 37,
   "metadata": {
    "dotnet_interactive": {
     "language": "csharp"
    },
    "polyglot_notebook": {
     "kernelName": "csharp"
    }
   },
   "outputs": [],
   "source": [
    "var assembly = new AssemblyDefinition(\n",
    "    name: \"MyAssembly\",\n",
    "    version: new(1, 0, 0, 0));\n",
    "\n",
    "var runtime = DotNetRuntimeInfo.Parse(\".NETCoreApp,Version=v7.0\");\n",
    "var module = new ModuleDefinition(\"MyAssembly.exe\", runtime.GetDefaultCorLib());\n",
    "var factory = module.CorLibTypeFactory;\n",
    "\n",
    "assembly.Modules.Add(module);\n",
    "\n",
    "var programType = new TypeDefinition(\n",
    "    ns: \"\", \n",
    "    name: \"Program\", \n",
    "    TypeAttributes.Class,\n",
    "    baseType: factory.Object.Type);\n",
    "\n",
    "module.TopLevelTypes.Add(programType);\n",
    "\n",
    "var mainMethod = new MethodDefinition(\n",
    "    name: \"Main\",\n",
    "    MethodAttributes.Public | MethodAttributes.Static,\n",
    "    signature: MethodSignature.CreateStatic(returnType: module.CorLibTypeFactory.Void));\n",
    "\n",
    "var methodBody = new CilMethodBody(mainMethod);\n",
    "mainMethod.CilMethodBody = methodBody;\n",
    "\n",
    "var write = \n",
    "    module.DefaultImporter.ImportType(typeof(Console))\n",
    "    .CreateMemberReference(\"Write\", MethodSignature.CreateStatic(\n",
    "        factory.Void, factory.Int32))\n",
    "    .ImportWith(module.DefaultImporter);"
   ]
  },
  {
   "cell_type": "markdown",
   "metadata": {},
   "source": [
    "## Symbol Table\n",
    "CIL uses a [stack evaluation model](https://en.wikipedia.org/wiki/Stack_machine), meaning that we have a stack to store values on and an \"unlimited\" (256) number of local variables. The .NET runtime then converts this IL to assembly code at runtime, though it is possible to compile it to native code ahead of time (AOT).\n",
    "\n",
    "Inside our method body, we need to initialize our symbols as stack local variables, and then setup a `Dictionary<string, int>` to reference them by when generating code.\n",
    "\n",
    "What I am creating with this `Dictionary` is something called a **symbol table**, but a very simplified watered down version. In real programming languages, you can have any number of scopes, and variables can be defined with the same name as another as long as they are uniquely defined in their own scope. A data structure for this model looks a lot more like a `Dictionary` where each value is a list.\n",
    "\n",
    "> Note: In most languges, module-like scopes can be named, meaning that identifiers inside modules must be *qualified* with the name of their containing scope. Some languages, like F#, Java and TypeScript, have a notion of \"opening\" a module which means adding all the items inside it to the lexical environment it's opened in."
   ]
  },
  {
   "cell_type": "code",
   "execution_count": 38,
   "metadata": {
    "dotnet_interactive": {
     "language": "csharp"
    },
    "polyglot_notebook": {
     "kernelName": "csharp"
    }
   },
   "outputs": [],
   "source": [
    "var symbolTuples = symbols.Select((s, i) => (Var: new CilLocalVariable(factory.Int32), Id: s, Index: i));\n",
    "\n",
    "foreach (var tpl in symbolTuples)\n",
    "{\n",
    "    methodBody.LocalVariables.Add(tpl.Var);\n",
    "}\n",
    "\n",
    "var symbolTable = symbolTuples.ToDictionary(k => k.Id, v => v.Index);"
   ]
  },
  {
   "cell_type": "markdown",
   "metadata": {},
   "source": [
    "Now we're ready to start generating code.\n",
    "\n",
    "> You might recall that our language always ends with an expression. This type of pattern is common when using languages in a scripting environment, such as Python in an interactive environment and [C# Script](https://learn.microsoft.com/en-us/archive/msdn-magazine/2016/january/essential-net-csharp-scripting). For our purposes, I didn't want to go through the work / add the complexity of implementing calling .NET methods, so in every program, `Console.Write` is called on this final expression. This gives us an easy way to test our programs, but is obviously lacking, as we cannot call `Console.Write` in various points of our code. \n",
    "\n",
    "We have `n` statements and one expression at the end, and it would make sense that - since we don't have functions - we generate code for our language in order.\n",
    "\n",
    "So our general algorithm would look something like\n",
    "```\n",
    "for each statement s\n",
    "    codegen(s)\n",
    "codegen(final expression)\n",
    "codegen(call `Console.Write`)\n",
    "```\n",
    "\n",
    "The way a stack evaluation model works, is that the \"current\" value is always at the top of the stack. Looking at the last two instructions above, we see we never \"pass\" the final expression to `Console.Write`, but instead push the argument onto the stack and then call `Console.Write`. This is also how we can handle assignment statements - by pushing the expression onto the stack and then popping it into the local variable being assigned to."
   ]
  },
  {
   "cell_type": "markdown",
   "metadata": {},
   "source": [
    "First, we define a method for evaluating expressions and pushing them onto the stack: "
   ]
  },
  {
   "cell_type": "code",
   "execution_count": 39,
   "metadata": {
    "dotnet_interactive": {
     "language": "csharp"
    },
    "polyglot_notebook": {
     "kernelName": "csharp"
    }
   },
   "outputs": [],
   "source": [
    "List<CilInstruction> Codegen(Expression expression)\n",
    "    => expression switch\n",
    "    {\n",
    "        NameExpression s => new List<CilInstruction>()\n",
    "        {\n",
    "            new CilInstruction(CilOpCodes.Ldloc_S, methodBody.LocalVariables[symbolTable[s.Identifier.Memory.ToString()]]),\n",
    "        },\n",
    "        BinaryExpression s => ((Func<List<CilInstruction>>)(() =>\n",
    "        {    \n",
    "            var l = new List<CilInstruction>();\n",
    "            l.AddRange(Codegen(s.Left));\n",
    "            l.AddRange(Codegen(s.Right));\n",
    "            l.Add(new CilInstruction(s.Operator.Type switch\n",
    "            {\n",
    "                TokenType.Add => CilOpCodes.Add,\n",
    "                TokenType.Subtract => CilOpCodes.Sub,\n",
    "                TokenType.Multiply => CilOpCodes.Mul,\n",
    "                TokenType.Divide => CilOpCodes.Div,\n",
    "                _ => throw new NotImplementedException()\n",
    "            }));\n",
    "\n",
    "            return l;\n",
    "        }))(),\n",
    "        IntLiteralExpression s => new List<CilInstruction>()\n",
    "        {\n",
    "            new CilInstruction(CilOpCodes.Ldc_I4, s.Value),\n",
    "        },\n",
    "        _ => throw new NotImplementedException()\n",
    "    };"
   ]
  },
  {
   "cell_type": "markdown",
   "metadata": {},
   "source": [
    "Then to generate code for each statement, where every statement is an assignment statement, we generate code to push the expression onto the stack, then code to pop the stack into a local variable."
   ]
  },
  {
   "cell_type": "code",
   "execution_count": 40,
   "metadata": {
    "dotnet_interactive": {
     "language": "csharp"
    },
    "polyglot_notebook": {
     "kernelName": "csharp"
    }
   },
   "outputs": [],
   "source": [
    "var il = methodBody.Instructions;\n",
    "\n",
    "il.AddRange(\n",
    "    program.Statements\n",
    "        .SelectMany(s => s switch\n",
    "            {\n",
    "                AssignmentStatement { Identifier: { Memory: var memory }, Expression: Expression expression } => ((Func<List<CilInstruction>>)(() =>\n",
    "                {    \n",
    "                    var l = new List<CilInstruction>();\n",
    "                    l.AddRange(Codegen(expression));\n",
    "                    l.Add(new CilInstruction(CilOpCodes.Stloc_S, methodBody.LocalVariables[symbolTable[memory.ToString()]]));\n",
    "\n",
    "                    return l;\n",
    "                }))(),\n",
    "                _ => throw new NotImplementedException()\n",
    "            }    \n",
    "        )\n",
    ");"
   ]
  },
  {
   "cell_type": "markdown",
   "metadata": {},
   "source": [
    "And finally, the evaluate the last expression and call `Console.Write`:"
   ]
  },
  {
   "cell_type": "code",
   "execution_count": 41,
   "metadata": {
    "dotnet_interactive": {
     "language": "csharp"
    },
    "polyglot_notebook": {
     "kernelName": "csharp"
    }
   },
   "outputs": [],
   "source": [
    "il.AddRange(Codegen(program.Eval));\n",
    "il.Add(CilOpCodes.Call, write);\n",
    "il.Add(new CilInstruction(CilOpCodes.Ret));"
   ]
  },
  {
   "cell_type": "markdown",
   "metadata": {},
   "source": [
    "Now we can set our `mainMethod` as our entry point"
   ]
  },
  {
   "cell_type": "code",
   "execution_count": 42,
   "metadata": {
    "dotnet_interactive": {
     "language": "csharp"
    },
    "polyglot_notebook": {
     "kernelName": "csharp"
    }
   },
   "outputs": [],
   "source": [
    "programType.Methods.Add(mainMethod);\n",
    "module.ManagedEntryPointMethod = mainMethod;"
   ]
  },
  {
   "cell_type": "markdown",
   "metadata": {},
   "source": [
    "And write our assembly (it is a framework-dependent assembly, so we also need to write a `*.runtimeconfig.json`)"
   ]
  },
  {
   "cell_type": "code",
   "execution_count": 43,
   "metadata": {
    "dotnet_interactive": {
     "language": "csharp"
    },
    "polyglot_notebook": {
     "kernelName": "csharp"
    }
   },
   "outputs": [],
   "source": [
    "assembly.Write(\"MyAssembly.exe\");\n",
    "System.IO.File.WriteAllText(\"MyAssembly.runtimeconfig.json\",\n",
    "\"\"\"\n",
    "{\n",
    "   \"runtimeOptions\": {\n",
    "     \"tfm\": \"net7.0\",\n",
    "     \"framework\": {\n",
    "       \"name\": \"Microsoft.NETCore.App\",\n",
    "       \"version\": \"7.0.0\"\n",
    "     }\n",
    "   }\n",
    "}\n",
    "\"\"\"\n",
    ");"
   ]
  },
  {
   "cell_type": "markdown",
   "metadata": {},
   "source": [
    "Now, if we run our assembly with PowerShell:"
   ]
  },
  {
   "cell_type": "code",
   "execution_count": 44,
   "metadata": {
    "dotnet_interactive": {
     "language": "pwsh"
    },
    "polyglot_notebook": {
     "kernelName": "pwsh"
    }
   },
   "outputs": [
    {
     "name": "stdout",
     "output_type": "stream",
     "text": [
      "15\r\n"
     ]
    }
   ],
   "source": [
    "dotnet MyAssembly.exe"
   ]
  },
  {
   "cell_type": "markdown",
   "metadata": {},
   "source": [
    "For seeing our compiled code, I prefer using [ILSpy](https://github.com/icsharpcode/ILSpy) (can install on Windows with `winget install ILSpy`), but if you don't want to install that tool, we can pretty print our instructions with AsmResolver like so (taken from [here](https://docs.washi.dev/asmresolver/guides/dotnet/managed-method-bodies.html#pretty-printing-cil-instructions)):"
   ]
  },
  {
   "cell_type": "code",
   "execution_count": 45,
   "metadata": {
    "dotnet_interactive": {
     "language": "csharp"
    },
    "polyglot_notebook": {
     "kernelName": "csharp"
    }
   },
   "outputs": [
    {
     "name": "stdout",
     "output_type": "stream",
     "text": [
      "IL_0000: ldc.i4 2\n",
      "IL_0005: stloc.s V_0\n",
      "IL_0007: ldc.i4 3\n",
      "IL_000C: stloc.s V_1\n",
      "IL_000E: ldc.i4 3\n",
      "IL_0013: ldloc.s V_0\n",
      "IL_0015: add\n",
      "IL_0016: ldloc.s V_1\n",
      "IL_0018: mul\n",
      "IL_0019: stloc.s V_2\n",
      "IL_001B: ldloc.s V_2\n",
      "IL_001D: call System.Void System.Console::Write(System.Int32)\n",
      "IL_0022: ret\n"
     ]
    }
   ],
   "source": [
    "var formatter = new CilInstructionFormatter();\n",
    "foreach (CilInstruction instruction in methodBody.Instructions)\n",
    "    Console.WriteLine(formatter.FormatInstruction(instruction));"
   ]
  }
 ],
 "metadata": {
  "kernelspec": {
   "display_name": ".NET (C#)",
   "language": "C#",
   "name": ".net-csharp"
  },
  "language_info": {
   "name": "polyglot-notebook"
  },
  "polyglot_notebook": {
   "kernelInfo": {
    "defaultKernelName": "csharp",
    "items": [
     {
      "aliases": [],
      "languageName": "csharp",
      "name": "csharp"
     }
    ]
   }
  }
 },
 "nbformat": 4,
 "nbformat_minor": 2
}
